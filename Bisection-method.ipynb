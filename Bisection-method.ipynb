{
 "cells": [
  {
   "cell_type": "markdown",
   "metadata": {},
   "source": [
    "## Bisection methods"
   ]
  },
  {
   "cell_type": "code",
   "execution_count": null,
   "metadata": {
    "collapsed": true
   },
   "outputs": [],
   "source": [
    "## Bisection methods for finding roots of a quadratic equation"
   ]
  },
  {
   "cell_type": "code",
   "execution_count": 1,
   "metadata": {
    "collapsed": true,
    "deletable": true,
    "editable": true
   },
   "outputs": [],
   "source": [
    "#import an approximation method from python's in-built libraries\n",
    "from math import isclose"
   ]
  },
  {
   "cell_type": "code",
   "execution_count": 2,
   "metadata": {
    "collapsed": true,
    "deletable": true,
    "editable": true
   },
   "outputs": [],
   "source": [
    "#define function1\n",
    "def get_func1(x):\n",
    "    return (x ** 2) - 5 * x -7 "
   ]
  },
  {
   "cell_type": "code",
   "execution_count": 3,
   "metadata": {
    "collapsed": true,
    "deletable": true,
    "editable": true
   },
   "outputs": [],
   "source": []
  },
  {
   "cell_type": "code",
   "execution_count": 4,
   "metadata": {
    "collapsed": false,
    "deletable": true,
    "editable": true
   },
   "outputs": [
    {
     "name": "stdout",
     "output_type": "stream",
     "text": [
      "[-2, 6]\n",
      "[-1, 7]\n",
      "[]\n"
     ]
    }
   ],
   "source": [
    "#Finding the values of a and b for the function1, roots for storing the roots\n",
    "a=[]\n",
    "b=[]\n",
    "roots=[]\n",
    "for x in range(-100,100):\n",
    "    value_a = get_func1(x)\n",
    "    value_b = get_func1(x+1)\n",
    "    if(value_a == 0):\n",
    "        roots.append(value_a)\n",
    "    elif(value_b == 0):\n",
    "        roots.append(value_b)\n",
    "            \n",
    "    if((value_a * value_b) < 0):\n",
    "        a.append(x)\n",
    "        b.append(x+1)\n",
    "print (a)\n",
    "print(b)\n",
    "print (roots)     \n"
   ]
  },
  {
   "cell_type": "code",
   "execution_count": 5,
   "metadata": {
    "collapsed": false,
    "deletable": true,
    "editable": true
   },
   "outputs": [
    {
     "name": "stdout",
     "output_type": "stream",
     "text": [
      "[-1.140045166015625, 6.140045166015625]\n"
     ]
    }
   ],
   "source": [
    "# Using k as a counter variable draw upon the logic of bisection method for function 1\n",
    "k=0\n",
    "while(k <len(a)):\n",
    "    c= (a[k]+b[k])/2\n",
    "    value_a = get_func1(a[k])\n",
    "    value_b = get_func1(b[k])\n",
    "    value_c = get_func1(c)\n",
    "    if (isclose(0, value_c, abs_tol=10**-4)):\n",
    "        roots.append(c)\n",
    "        k = k+1     \n",
    "    elif((value_a >0 and value_c >0) or (value_a <0 and value_c <0)):\n",
    "        a[k]=c\n",
    "    else:\n",
    "        b[k]=c\n",
    "\n",
    "print(roots)"
   ]
  },
  {
   "cell_type": "code",
   "execution_count": null,
   "metadata": {
    "collapsed": true
   },
   "outputs": [],
   "source": [
    "# Bisection methods for cubic equations"
   ]
  },
  {
   "cell_type": "code",
   "execution_count": 8,
   "metadata": {
    "collapsed": true
   },
   "outputs": [],
   "source": [
    "#define function2\n",
    "def get_func2(x):\n",
    "    return (x ** 3) + 8 * x "
   ]
  },
  {
   "cell_type": "code",
   "execution_count": 6,
   "metadata": {
    "collapsed": false,
    "deletable": true,
    "editable": true
   },
   "outputs": [
    {
     "name": "stdout",
     "output_type": "stream",
     "text": [
      "[]\n",
      "[]\n",
      "[0, 0]\n"
     ]
    }
   ],
   "source": [
    "#Finding the values of a and b for the function1, roots for storing the roots\n",
    "a=[]\n",
    "b=[]\n",
    "roots=[]\n",
    "for x in range(-100,100):\n",
    "    value_a = get_func2(x)\n",
    "    value_b = get_func2(x+1)\n",
    "    if(value_a == 0):\n",
    "        roots.append(value_a)\n",
    "    elif(value_b == 0):\n",
    "        roots.append(value_b)\n",
    "            \n",
    "    if((value_a * value_b) < 0):\n",
    "        a.append(x)\n",
    "        b.append(x+1)\n",
    "print (a)\n",
    "print(b)\n",
    "print (roots)      "
   ]
  },
  {
   "cell_type": "code",
   "execution_count": 7,
   "metadata": {
    "collapsed": false,
    "deletable": true,
    "editable": true
   },
   "outputs": [
    {
     "name": "stdout",
     "output_type": "stream",
     "text": [
      "[0, 0]\n"
     ]
    }
   ],
   "source": [
    "# Using k as a counter variable draw upon the logic of bisection method for function 2\n",
    "k=0\n",
    "while(k <len(a)):\n",
    "    c= (a[k]+b[k])/2\n",
    "    value_a = get_func2(a[k])\n",
    "    value_b = get_func2(b[k])\n",
    "    value_c = get_func2(c)\n",
    "    if (isclose(0, value_c, abs_tol=10**-4)):\n",
    "        roots.append(c)\n",
    "        k = k+1     \n",
    "    elif((value_a >0 and value_c >0) or (value_a <0 and value_c <0)):\n",
    "        a[k]=c\n",
    "    else:\n",
    "        b[k]=c\n",
    "        \n",
    "print(roots)"
   ]
  },
  {
   "cell_type": "code",
   "execution_count": null,
   "metadata": {
    "collapsed": true
   },
   "outputs": [],
   "source": []
  },
  {
   "cell_type": "code",
   "execution_count": null,
   "metadata": {
    "collapsed": true
   },
   "outputs": [],
   "source": []
  }
 ],
 "metadata": {
  "kernelspec": {
   "display_name": "Python 3",
   "language": "python",
   "name": "python3"
  },
  "language_info": {
   "codemirror_mode": {
    "name": "ipython",
    "version": 3
   },
   "file_extension": ".py",
   "mimetype": "text/x-python",
   "name": "python",
   "nbconvert_exporter": "python",
   "pygments_lexer": "ipython3",
   "version": "3.5.2"
  }
 },
 "nbformat": 4,
 "nbformat_minor": 2
}
